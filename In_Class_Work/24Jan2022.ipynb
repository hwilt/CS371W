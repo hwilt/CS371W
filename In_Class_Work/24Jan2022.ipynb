{
 "cells": [
  {
   "cell_type": "code",
   "execution_count": 29,
   "id": "e397f830",
   "metadata": {},
   "outputs": [
    {
     "name": "stdout",
     "output_type": "stream",
     "text": [
      "0 [0, 30, 40, 50]\n",
      "1 [1, 21]\n",
      "2 [32, 42, 52, 72]\n",
      "3 [3, 33, 73]\n",
      "4 [44, 94]\n",
      "5 [45, 55]\n",
      "6 [36, 46, 56, 66]\n",
      "7 [57, 87]\n",
      "8 [8, 38, 58]\n",
      "9 [9, 49, 69]\n"
     ]
    }
   ],
   "source": [
    "import numpy as np\n",
    "np.random.seed(4)\n",
    "nums = np.unique(np.random.randint(0,100,40))\n",
    "#print(nums)\n",
    "#nums_even = nums[nums%2 == 0]\n",
    "#nums_odd = nums[nums%2 == 1]\n",
    "\n",
    "#print(nums_even)\n",
    "#print(nums_odd)\n",
    "\n",
    "def hashfunc(nums, i, n_bins):\n",
    "    return nums[i]%n_bins\n",
    "\n",
    "\n",
    "#Hash Map with non random bins\n",
    "#no hash function\n",
    "nums_even = []\n",
    "n_bins = 10\n",
    "table = []\n",
    "for i in range(n_bins):\n",
    "    table.append([]) # create an empty list for each bin\n",
    "    # Mike's Solution\n",
    "    #table.append(nums[nums%n_bins==i])\n",
    "for i in range(len(nums)):\n",
    "    table[hashfunc(nums, i, n_bins)].append(nums[i])\n",
    "\n",
    "for i in range(n_bins):\n",
    "    print(i, table[i])\n",
    "#print(table)"
   ]
  }
 ],
 "metadata": {
  "kernelspec": {
   "display_name": "Python 3 (ipykernel)",
   "language": "python",
   "name": "python3"
  },
  "language_info": {
   "codemirror_mode": {
    "name": "ipython",
    "version": 3
   },
   "file_extension": ".py",
   "mimetype": "text/x-python",
   "name": "python",
   "nbconvert_exporter": "python",
   "pygments_lexer": "ipython3",
   "version": "3.9.7"
  }
 },
 "nbformat": 4,
 "nbformat_minor": 5
}
